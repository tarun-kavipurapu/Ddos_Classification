{
  "nbformat": 4,
  "nbformat_minor": 0,
  "metadata": {
    "colab": {
      "provenance": []
    },
    "kernelspec": {
      "name": "python3",
      "display_name": "Python 3"
    },
    "language_info": {
      "name": "python"
    }
  },
  "cells": [
    {
      "cell_type": "code",
      "execution_count": 1,
      "metadata": {
        "id": "VPnbP-RQ5gM_"
      },
      "outputs": [],
      "source": [
        "import pandas as pd\n",
        "import numpy as np\n",
        "from sklearn.model_selection import train_test_split\n",
        "from sklearn.preprocessing import StandardScaler, OneHotEncoder\n",
        "from sklearn.compose import ColumnTransformer\n",
        "from sklearn.ensemble import RandomForestClassifier\n",
        "from sklearn.impute import SimpleImputer\n",
        "from sklearn.metrics import accuracy_score, f1_score, confusion_matrix\n",
        "from keras.models import Sequential\n",
        "from keras.layers import Dense\n",
        "from sklearn.utils import shuffle\n",
        "from sklearn.metrics import ConfusionMatrixDisplay"
      ]
    },
    {
      "cell_type": "code",
      "source": [
        "df_sample = pd.read_csv('/content/dataset_sdn.csv')"
      ],
      "metadata": {
        "id": "aBynFhZb5ib2"
      },
      "execution_count": 2,
      "outputs": []
    },
    {
      "cell_type": "code",
      "source": [
        "\n",
        "X = df_sample.drop('label', axis=1)\n",
        "y = df_sample['label']\n"
      ],
      "metadata": {
        "id": "8pFB8b_P6VeA"
      },
      "execution_count": 3,
      "outputs": []
    },
    {
      "cell_type": "code",
      "source": [
        "\n",
        "numeric_cols = [col for col in X.columns if col not in ['src', 'dst', 'Protocol']]\n",
        "numeric_imputer = SimpleImputer(strategy='mean')\n",
        "X[numeric_cols] = numeric_imputer.fit_transform(X[numeric_cols])"
      ],
      "metadata": {
        "id": "eYfeQNih666k"
      },
      "execution_count": 4,
      "outputs": []
    },
    {
      "cell_type": "code",
      "source": [
        "categorical_cols = ['src', 'dst', 'Protocol']\n",
        "\n",
        "numeric_transformer = StandardScaler()\n"
      ],
      "metadata": {
        "id": "MkGyYLfy69lv"
      },
      "execution_count": 5,
      "outputs": []
    },
    {
      "cell_type": "code",
      "source": [
        "\n",
        "categorical_transformer = OneHotEncoder(drop='first', sparse_output=False)\n",
        "X_categorical = categorical_transformer.fit_transform(X[categorical_cols])\n",
        "\n",
        "preprocessor = ColumnTransformer(\n",
        "    transformers=[\n",
        "        ('num', numeric_transformer, numeric_cols),\n",
        "        ('cat', categorical_transformer, categorical_cols)\n",
        "    ])\n",
        "\n",
        "X_transformed = preprocessor.fit_transform(X)"
      ],
      "metadata": {
        "id": "UQqs-twz6_mD"
      },
      "execution_count": 7,
      "outputs": []
    },
    {
      "cell_type": "code",
      "source": [
        "fnn_model = Sequential([\n",
        "    Dense(units=64, activation='relu', input_dim=X_transformed.shape[1]),\n",
        "    Dense(units=32, activation='relu'),\n",
        "    Dense(units=1, activation='sigmoid')\n",
        "])\n",
        "\n",
        "fnn_model.compile(optimizer='adam', loss='binary_crossentropy', metrics=['accuracy'])\n"
      ],
      "metadata": {
        "colab": {
          "base_uri": "https://localhost:8080/"
        },
        "id": "GUIM9dcD7Cu_",
        "outputId": "391668c9-cc29-49da-87d8-0e6127c2fa0c"
      },
      "execution_count": 8,
      "outputs": [
        {
          "output_type": "stream",
          "name": "stderr",
          "text": [
            "/usr/local/lib/python3.10/dist-packages/keras/src/layers/core/dense.py:87: UserWarning: Do not pass an `input_shape`/`input_dim` argument to a layer. When using Sequential models, prefer using an `Input(shape)` object as the first layer in the model instead.\n",
            "  super().__init__(activity_regularizer=activity_regularizer, **kwargs)\n"
          ]
        }
      ]
    },
    {
      "cell_type": "code",
      "source": [
        "\n",
        "X_train_fnn, X_test_fnn, y_train_fnn, y_test_fnn = train_test_split(X_transformed, y, test_size=0.2, random_state=42)\n",
        "\n",
        "fnn_model.fit(X_train_fnn, y_train_fnn, epochs=10, batch_size=32, validation_split=0.1, verbose=1)\n",
        "\n"
      ],
      "metadata": {
        "colab": {
          "base_uri": "https://localhost:8080/"
        },
        "id": "OmZUb5hh7Ymb",
        "outputId": "f371e699-59a6-441e-df90-2620dda09512"
      },
      "execution_count": 9,
      "outputs": [
        {
          "output_type": "stream",
          "name": "stdout",
          "text": [
            "Epoch 1/10\n",
            "\u001b[1m2348/2348\u001b[0m \u001b[32m━━━━━━━━━━━━━━━━━━━━\u001b[0m\u001b[37m\u001b[0m \u001b[1m12s\u001b[0m 3ms/step - accuracy: 0.9054 - loss: 0.2145 - val_accuracy: 0.9808 - val_loss: 0.0513\n",
            "Epoch 2/10\n",
            "\u001b[1m2348/2348\u001b[0m \u001b[32m━━━━━━━━━━━━━━━━━━━━\u001b[0m\u001b[37m\u001b[0m \u001b[1m9s\u001b[0m 2ms/step - accuracy: 0.9839 - loss: 0.0435 - val_accuracy: 0.9890 - val_loss: 0.0323\n",
            "Epoch 3/10\n",
            "\u001b[1m2348/2348\u001b[0m \u001b[32m━━━━━━━━━━━━━━━━━━━━\u001b[0m\u001b[37m\u001b[0m \u001b[1m5s\u001b[0m 2ms/step - accuracy: 0.9898 - loss: 0.0270 - val_accuracy: 0.9916 - val_loss: 0.0239\n",
            "Epoch 4/10\n",
            "\u001b[1m2348/2348\u001b[0m \u001b[32m━━━━━━━━━━━━━━━━━━━━\u001b[0m\u001b[37m\u001b[0m \u001b[1m5s\u001b[0m 2ms/step - accuracy: 0.9919 - loss: 0.0238 - val_accuracy: 0.9925 - val_loss: 0.0202\n",
            "Epoch 5/10\n",
            "\u001b[1m2348/2348\u001b[0m \u001b[32m━━━━━━━━━━━━━━━━━━━━\u001b[0m\u001b[37m\u001b[0m \u001b[1m6s\u001b[0m 2ms/step - accuracy: 0.9929 - loss: 0.0188 - val_accuracy: 0.9910 - val_loss: 0.0212\n",
            "Epoch 6/10\n",
            "\u001b[1m2348/2348\u001b[0m \u001b[32m━━━━━━━━━━━━━━━━━━━━\u001b[0m\u001b[37m\u001b[0m \u001b[1m4s\u001b[0m 2ms/step - accuracy: 0.9939 - loss: 0.0151 - val_accuracy: 0.9952 - val_loss: 0.0140\n",
            "Epoch 7/10\n",
            "\u001b[1m2348/2348\u001b[0m \u001b[32m━━━━━━━━━━━━━━━━━━━━\u001b[0m\u001b[37m\u001b[0m \u001b[1m4s\u001b[0m 2ms/step - accuracy: 0.9952 - loss: 0.0127 - val_accuracy: 0.9958 - val_loss: 0.0124\n",
            "Epoch 8/10\n",
            "\u001b[1m2348/2348\u001b[0m \u001b[32m━━━━━━━━━━━━━━━━━━━━\u001b[0m\u001b[37m\u001b[0m \u001b[1m6s\u001b[0m 2ms/step - accuracy: 0.9960 - loss: 0.0110 - val_accuracy: 0.9960 - val_loss: 0.0107\n",
            "Epoch 9/10\n",
            "\u001b[1m2348/2348\u001b[0m \u001b[32m━━━━━━━━━━━━━━━━━━━━\u001b[0m\u001b[37m\u001b[0m \u001b[1m4s\u001b[0m 2ms/step - accuracy: 0.9961 - loss: 0.0102 - val_accuracy: 0.9964 - val_loss: 0.0093\n",
            "Epoch 10/10\n",
            "\u001b[1m2348/2348\u001b[0m \u001b[32m━━━━━━━━━━━━━━━━━━━━\u001b[0m\u001b[37m\u001b[0m \u001b[1m5s\u001b[0m 2ms/step - accuracy: 0.9960 - loss: 0.0102 - val_accuracy: 0.9963 - val_loss: 0.0101\n"
          ]
        },
        {
          "output_type": "execute_result",
          "data": {
            "text/plain": [
              "<keras.src.callbacks.history.History at 0x785e20786650>"
            ]
          },
          "metadata": {},
          "execution_count": 9
        }
      ]
    },
    {
      "cell_type": "code",
      "source": [
        "if y_test_fnn.isnull().any():\n",
        "    print(\"NaN values found in y_test_fnn. Handle missing labels before evaluating the model.\")\n",
        "else:\n",
        "    y_pred_fnn = fnn_model.predict(X_test_fnn)\n",
        "    y_pred_fnn_binary = (y_pred_fnn > 0.5).astype(int)\n",
        "\n",
        "    accuracy_fnn = accuracy_score(y_test_fnn, y_pred_fnn_binary)\n",
        "    f1_fnn = f1_score(y_test_fnn, y_pred_fnn_binary)\n",
        "    conf_matrix_fnn = confusion_matrix(y_test_fnn, y_pred_fnn_binary)\n",
        "\n",
        "    print(f'FNN Accuracy: {accuracy_fnn}')\n",
        "    print(f'FNN F1 Score: {f1_fnn}')\n",
        "    print('FNN Confusion Matrix:')\n",
        "    ConfusionMatrixDisplay(conf_matrix_fnn).plot(cmap='viridis', values_format='d')"
      ],
      "metadata": {
        "colab": {
          "base_uri": "https://localhost:8080/",
          "height": 540
        },
        "id": "1IisU3017cev",
        "outputId": "7cd440de-5125-460c-c81e-d71b77c6a14b"
      },
      "execution_count": 10,
      "outputs": [
        {
          "output_type": "stream",
          "name": "stdout",
          "text": [
            "\u001b[1m653/653\u001b[0m \u001b[32m━━━━━━━━━━━━━━━━━━━━\u001b[0m\u001b[37m\u001b[0m \u001b[1m2s\u001b[0m 3ms/step\n",
            "FNN Accuracy: 0.9956394652355168\n",
            "FNN F1 Score: 0.9944188899110702\n",
            "FNN Confusion Matrix:\n"
          ]
        },
        {
          "output_type": "display_data",
          "data": {
            "text/plain": [
              "<Figure size 640x480 with 2 Axes>"
            ],
            "image/png": "[encoded data removed]"
          },
          "metadata": {}
        }
      ]
    },
    {
      "cell_type": "code",
      "source": [],
      "metadata": {
        "id": "UKfoyJss73yr"
      },
      "execution_count": null,
      "outputs": []
    }
  ]
}